{
  "nbformat": 4,
  "nbformat_minor": 0,
  "metadata": {
    "colab": {
      "provenance": [],
      "authorship_tag": "ABX9TyNlKvKoXXBSNLgkWIfnbi5T",
      "include_colab_link": true
    },
    "kernelspec": {
      "name": "python3",
      "display_name": "Python 3"
    },
    "language_info": {
      "name": "python"
    }
  },
  "cells": [
    {
      "cell_type": "markdown",
      "metadata": {
        "id": "view-in-github",
        "colab_type": "text"
      },
      "source": [
        "<a href=\"https://colab.research.google.com/github/danielmohansahu/M3DETR/blob/main/evaluation.ipynb\" target=\"_parent\"><img src=\"https://colab.research.google.com/assets/colab-badge.svg\" alt=\"Open In Colab\"/></a>"
      ]
    },
    {
      "cell_type": "markdown",
      "source": [
        "# M3DETR Evaluation Notebook\n",
        "\n",
        "This notebook demonstrates evaluation of the [M3DETR](https://arxiv.org/pdf/2104.11896.pdf) 3D Object Detection model architecture and training pipeline. Specifically it supports training and inference of [Group 13's fork](https://github.com/danielmohansahu/M3DETR). All training and evaluation uses the [KITTI 3D Detection Evaluation Dataset](https://www.cvlibs.net/datasets/kitti/eval_object.php?obj_benchmark=3d).\n",
        "\n",
        "Note - this notebook requires memory resources beyond those available in the current free tier of Google Colab. In order to run this script you will need to have a Google Colab Pro account (or possibly connect to your personal upgraded Google Drive)."
      ],
      "metadata": {
        "id": "y24nRqXiKroa"
      }
    },
    {
      "cell_type": "code",
      "source": [
        "# sanity check hardware\n",
        "!nvidia-smi\n",
        "\n",
        "# sanity check required packages are installed\n",
        "import torch\n",
        "import torchvision\n",
        "from tqdm import tqdm\n",
        "\n",
        "# install M3DETR dependencies\n",
        "!pip install spconv-cu120 cython open3d\n",
        "\n",
        "# install dataset management helper\n",
        "!python3 -m pip install fiftyone\n",
        "!python3 -m pip install fiftyone-db-ubuntu2204\n",
        "\n",
        "# import dataset management helper\n",
        "import fiftyone"
      ],
      "metadata": {
        "id": "_Xo2vUIrKvUe"
      },
      "execution_count": null,
      "outputs": []
    },
    {
      "cell_type": "code",
      "source": [
        "# clone repository\n",
        "!git clone https://github.com/danielmohansahu/M3DETR.git -b feature/sahu/profiling\n",
        "%cd M3DETR\n",
        "\n",
        "# build repository\n",
        "!python3 setup.py develop"
      ],
      "metadata": {
        "id": "bZffHMPnN7Km"
      },
      "execution_count": null,
      "outputs": []
    },
    {
      "cell_type": "code",
      "source": [
        "# connect to google drive\n",
        "from google.colab import drive\n",
        "drive.mount('/content/drive')\n",
        "\n",
        "# sync with cached data\n",
        "import pathlib\n",
        "import shutil\n",
        "\n",
        "# local location of drive cache (mounted)\n",
        "cache_file = pathlib.Path(\"/content/drive/MyDrive/cache/m3detr/kitti.zip\")\n",
        "\n",
        "# local location of dataset\n",
        "data_dir = pathlib.Path(\"/content/M3DETR/data/kitti\")\n",
        "\n",
        "if not cache_file.exists():\n",
        "  # download and fully process KITTI from scratch. this will be slow!\n",
        "\n",
        "  print(\"Downloading and processing KITTI dataset...\")\n",
        "  dataset = fiftyone.zoo.load_zoo_dataset('kitti-multiview', dataset_dir=\"data/kitti\")\n",
        "\n",
        "  # rename folders to follow convention\n",
        "  print(\"Renaming and removing unneeded files / folders...\")\n",
        "  !cd data/kitti && mv test testing && mv train training\n",
        "\n",
        "  # remove those we don't care about\n",
        "  !cd data/kitti && rm -rf tmp-download testing/right training/right\n",
        "\n",
        "  # post-process via OpenPCD scripts\n",
        "  print(\"Post-processing dataset for OpenPCD...\")\n",
        "  !python3 -m pcdet.datasets.kitti.kitti_dataset create_kitti_infos \\\n",
        "              tools/cfgs/dataset_configs/kitti_dataset.yaml\n",
        "\n",
        "  # zip up the results for faster copy speeds\n",
        "  print(\"Archiving dataset...\")\n",
        "  !zip kitti.zip /content/M3DETR/data/kitti -r\n",
        "\n",
        "  # finally, copy over results to drive\n",
        "  print(\"Backing up to drive...\")\n",
        "  !mv kitti.zip /content/drive/MyDrive/cache/m3detr/kitti.zip\n",
        "\n",
        "elif not (data_dir / \"training\").is_dir() or not (data_dir / \"testing\").is_dir():\n",
        "  # pull pre-processed KITTI dataset from local drive\n",
        "\n",
        "  print(\"Copying over cached KITTI dataset...\")\n",
        "  !cp /content/drive/MyDrive/cache/m3detr/kitti.zip /content/M3DETR/data/\n",
        "\n",
        "  print(\"Unzipping cached KITTI dataset...\")\n",
        "  !cd /content/M3DETR/data && unzip kitti.zip\n",
        "\n",
        "# sanity check before continuing\n",
        "assert (data_dir / \"training\").is_dir(), \"Missing training data!\"\n",
        "assert (data_dir / \"testing\").is_dir(), \"Missing testing data!\"\n",
        "print(\"KITTI dataset loaded.\")"
      ],
      "metadata": {
        "id": "ClNQ5XemTErn"
      },
      "execution_count": null,
      "outputs": []
    }
  ]
}