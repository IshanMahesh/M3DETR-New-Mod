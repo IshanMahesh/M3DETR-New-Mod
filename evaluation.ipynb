{
  "nbformat": 4,
  "nbformat_minor": 0,
  "metadata": {
    "colab": {
      "provenance": [],
      "authorship_tag": "ABX9TyNv0cA5hoRGhvQ3ecwh9P+c",
      "include_colab_link": true
    },
    "kernelspec": {
      "name": "python3",
      "display_name": "Python 3"
    },
    "language_info": {
      "name": "python"
    }
  },
  "cells": [
    {
      "cell_type": "markdown",
      "metadata": {
        "id": "view-in-github",
        "colab_type": "text"
      },
      "source": [
        "<a href=\"https://colab.research.google.com/github/danielmohansahu/M3DETR/blob/feature%2Fsahu%2Fprofiling/evaluation.ipynb\" target=\"_parent\"><img src=\"https://colab.research.google.com/assets/colab-badge.svg\" alt=\"Open In Colab\"/></a>"
      ]
    },
    {
      "cell_type": "markdown",
      "source": [
        "# M3DETR Evaluation Notebook\n",
        "\n",
        "This notebook demonstrates evaluation of the [M3DETR](https://arxiv.org/pdf/2104.11896.pdf) 3D Object Detection model architecture and training pipeline. Specifically it supports training and inference of [Group 13's fork](https://github.com/danielmohansahu/M3DETR). All training and evaluation uses the [KITTI 3D Detection Evaluation Dataset](https://www.cvlibs.net/datasets/kitti/eval_object.php?obj_benchmark=3d)."
      ],
      "metadata": {
        "id": "y24nRqXiKroa"
      }
    },
    {
      "cell_type": "code",
      "source": [
        "# install general dependencies / tools / etc.\n",
        "!python3 -m pip install tqdm\n",
        "!python3 -m pip install fiftyone\n",
        "!python3 -m pip install fiftyone-db-ubuntu2204\n",
        "\n",
        "# import support tooling\n",
        "from tqdm import tqdm\n",
        "import fiftyone"
      ],
      "metadata": {
        "id": "_Xo2vUIrKvUe"
      },
      "execution_count": null,
      "outputs": []
    },
    {
      "cell_type": "code",
      "source": [
        "# download KITTI 3D Object Detection dataset\n",
        "dataset = fiftyone.zoo.load_zoo_dataset('kitti-multiview')"
      ],
      "metadata": {
        "id": "YeB8XQ-XLU9L",
        "outputId": "2f046d65-a72f-49f0-cbff-67a86064367d",
        "colab": {
          "base_uri": "https://localhost:8080/"
        }
      },
      "execution_count": null,
      "outputs": [
        {
          "output_type": "stream",
          "name": "stdout",
          "text": [
            "Downloading split 'train' to '/root/fiftyone/kitti-multiview/train' if necessary\n"
          ]
        },
        {
          "output_type": "stream",
          "name": "stderr",
          "text": [
            "INFO:fiftyone.zoo.datasets:Downloading split 'train' to '/root/fiftyone/kitti-multiview/train' if necessary\n"
          ]
        },
        {
          "output_type": "stream",
          "name": "stdout",
          "text": [
            "Downloading labels to '/root/fiftyone/kitti-multiview/tmp-download/data_object_label_2.zip'\n"
          ]
        },
        {
          "output_type": "stream",
          "name": "stderr",
          "text": [
            "INFO:fiftyone.utils.kitti:Downloading labels to '/root/fiftyone/kitti-multiview/tmp-download/data_object_label_2.zip'\n"
          ]
        },
        {
          "output_type": "stream",
          "name": "stdout",
          "text": [
            " 100% |█████|   42.7Mb/42.7Mb [874.3ms elapsed, 0s remaining, 48.9Mb/s]      \n"
          ]
        },
        {
          "output_type": "stream",
          "name": "stderr",
          "text": [
            "INFO:eta.core.utils: 100% |█████|   42.7Mb/42.7Mb [874.3ms elapsed, 0s remaining, 48.9Mb/s]      \n"
          ]
        },
        {
          "output_type": "stream",
          "name": "stdout",
          "text": [
            "Extracting '/root/fiftyone/kitti-multiview/tmp-download/data_object_label_2.zip'\n"
          ]
        },
        {
          "output_type": "stream",
          "name": "stderr",
          "text": [
            "INFO:fiftyone.utils.kitti:Extracting '/root/fiftyone/kitti-multiview/tmp-download/data_object_label_2.zip'\n"
          ]
        },
        {
          "output_type": "stream",
          "name": "stdout",
          "text": [
            "Downloading calib to '/root/fiftyone/kitti-multiview/tmp-download/data_object_calib.zip'\n"
          ]
        },
        {
          "output_type": "stream",
          "name": "stderr",
          "text": [
            "INFO:fiftyone.utils.kitti:Downloading calib to '/root/fiftyone/kitti-multiview/tmp-download/data_object_calib.zip'\n"
          ]
        },
        {
          "output_type": "stream",
          "name": "stdout",
          "text": [
            " 100% |████|  204.9Mb/204.9Mb [1.6s elapsed, 0s remaining, 211.1Mb/s]      \n"
          ]
        },
        {
          "output_type": "stream",
          "name": "stderr",
          "text": [
            "INFO:eta.core.utils: 100% |████|  204.9Mb/204.9Mb [1.6s elapsed, 0s remaining, 211.1Mb/s]      \n"
          ]
        },
        {
          "output_type": "stream",
          "name": "stdout",
          "text": [
            "Extracting '/root/fiftyone/kitti-multiview/tmp-download/data_object_calib.zip'\n"
          ]
        },
        {
          "output_type": "stream",
          "name": "stderr",
          "text": [
            "INFO:fiftyone.utils.kitti:Extracting '/root/fiftyone/kitti-multiview/tmp-download/data_object_calib.zip'\n"
          ]
        },
        {
          "output_type": "stream",
          "name": "stdout",
          "text": [
            "Downloading left to '/root/fiftyone/kitti-multiview/tmp-download/data_object_image_2.zip'\n"
          ]
        },
        {
          "output_type": "stream",
          "name": "stderr",
          "text": [
            "INFO:fiftyone.utils.kitti:Downloading left to '/root/fiftyone/kitti-multiview/tmp-download/data_object_image_2.zip'\n"
          ]
        },
        {
          "output_type": "stream",
          "name": "stdout",
          "text": [
            " 100% |█████|   93.7Gb/93.7Gb [7.3m elapsed, 0s remaining, 234.8Mb/s]      \n"
          ]
        },
        {
          "output_type": "stream",
          "name": "stderr",
          "text": [
            "INFO:eta.core.utils: 100% |█████|   93.7Gb/93.7Gb [7.3m elapsed, 0s remaining, 234.8Mb/s]      \n"
          ]
        },
        {
          "output_type": "stream",
          "name": "stdout",
          "text": [
            "Extracting '/root/fiftyone/kitti-multiview/tmp-download/data_object_image_2.zip'\n"
          ]
        },
        {
          "output_type": "stream",
          "name": "stderr",
          "text": [
            "INFO:fiftyone.utils.kitti:Extracting '/root/fiftyone/kitti-multiview/tmp-download/data_object_image_2.zip'\n"
          ]
        },
        {
          "output_type": "stream",
          "name": "stdout",
          "text": [
            "Downloading right to '/root/fiftyone/kitti-multiview/tmp-download/data_object_image_3.zip'\n"
          ]
        },
        {
          "output_type": "stream",
          "name": "stderr",
          "text": [
            "INFO:fiftyone.utils.kitti:Downloading right to '/root/fiftyone/kitti-multiview/tmp-download/data_object_image_3.zip'\n"
          ]
        },
        {
          "output_type": "stream",
          "name": "stdout",
          "text": [
            " 100% |█████|   89.4Gb/89.4Gb [12.2m elapsed, 0s remaining, 181.5Mb/s]      \n"
          ]
        },
        {
          "output_type": "stream",
          "name": "stderr",
          "text": [
            "INFO:eta.core.utils: 100% |█████|   89.4Gb/89.4Gb [12.2m elapsed, 0s remaining, 181.5Mb/s]      \n"
          ]
        },
        {
          "output_type": "stream",
          "name": "stdout",
          "text": [
            "Extracting '/root/fiftyone/kitti-multiview/tmp-download/data_object_image_3.zip'\n"
          ]
        },
        {
          "output_type": "stream",
          "name": "stderr",
          "text": [
            "INFO:fiftyone.utils.kitti:Extracting '/root/fiftyone/kitti-multiview/tmp-download/data_object_image_3.zip'\n"
          ]
        },
        {
          "output_type": "stream",
          "name": "stdout",
          "text": [
            "Downloading velodyne to '/root/fiftyone/kitti-multiview/tmp-download/data_object_velodyne.zip'\n"
          ]
        },
        {
          "output_type": "stream",
          "name": "stderr",
          "text": [
            "INFO:fiftyone.utils.kitti:Downloading velodyne to '/root/fiftyone/kitti-multiview/tmp-download/data_object_velodyne.zip'\n"
          ]
        },
        {
          "output_type": "stream",
          "name": "stdout",
          "text": [
            "  39% |█/--|   83.1Gb/214.2Gb [6.3m elapsed, 9.7m remaining, 240.4Mb/s]    "
          ]
        }
      ]
    },
    {
      "cell_type": "code",
      "source": [
        "# install required dependencies\n",
        "!pip install -q condacolab\n",
        "import condacolab\n",
        "condacolab.install()\n",
        "\n",
        "conda install pytorch torchvision pytorch-cuda=12.1 -c pytorch -c nvidia\n",
        "!pip install spconv-cu120 cython numpy==1.25\n",
        "!git clone https://github.com/danielmohansahu/M3DETR.git\n",
        "!cd M3DETR\n",
        "!python setup.py develop\n",
        "\n",
        "# clone repo"
      ],
      "metadata": {
        "id": "M2wPyBuLPWMM"
      },
      "execution_count": null,
      "outputs": []
    }
  ]
}